{
 "cells": [
  {
   "cell_type": "code",
   "execution_count": 2,
   "metadata": {},
   "outputs": [],
   "source": [
    "import pyspark\n",
    "from pyspark.sql import SparkSession"
   ]
  },
  {
   "cell_type": "code",
   "execution_count": 3,
   "metadata": {},
   "outputs": [
    {
     "name": "stderr",
     "output_type": "stream",
     "text": [
      "23/05/07 16:52:29 WARN Utils: Your hostname, arkadia-355.local resolves to a loopback address: 127.0.0.1; using 10.0.1.12 instead (on interface en0)\n",
      "23/05/07 16:52:29 WARN Utils: Set SPARK_LOCAL_IP if you need to bind to another address\n",
      "Setting default log level to \"WARN\".\n",
      "To adjust logging level use sc.setLogLevel(newLevel). For SparkR, use setLogLevel(newLevel).\n",
      "23/05/07 16:52:30 WARN NativeCodeLoader: Unable to load native-hadoop library for your platform... using builtin-java classes where applicable\n",
      "23/05/07 16:52:31 WARN Utils: Service 'SparkUI' could not bind on port 4040. Attempting port 4041.\n"
     ]
    },
    {
     "name": "stderr",
     "output_type": "stream",
     "text": [
      "23/05/07 16:52:44 WARN GarbageCollectionMetrics: To enable non-built-in garbage collector(s) List(G1 Concurrent GC), users should configure it(them) to spark.eventLog.gcMetrics.youngGenerationGarbageCollectors or spark.eventLog.gcMetrics.oldGenerationGarbageCollectors\n"
     ]
    }
   ],
   "source": [
    "spark = SparkSession.builder \\\n",
    "    .master(\"local[*]\") \\\n",
    "    .appName('test') \\\n",
    "    .getOrCreate()"
   ]
  },
  {
   "cell_type": "code",
   "execution_count": 4,
   "metadata": {},
   "outputs": [],
   "source": [
    "from pyspark.sql import types"
   ]
  },
  {
   "cell_type": "code",
   "execution_count": 5,
   "metadata": {},
   "outputs": [],
   "source": [
    "schema = types.StructType([\n",
    "    types.StructField('type', types.StringType(), True), \n",
    "    types.StructField('key', types.StringType(), True), \n",
    "    types.StructField('revision', types.IntegerType(), True), \n",
    "    types.StructField('last_modified', types.TimestampType(), True), \n",
    "    types.StructField('json', types.StringType(), True)\n",
    "])"
   ]
  },
  {
   "cell_type": "code",
   "execution_count": 6,
   "metadata": {},
   "outputs": [],
   "source": [
    "df = (\n",
    "    spark.read\n",
    "    .option(\"sep\", \"\\t\")\n",
    "    .option(\"header\", \"false\")\n",
    "    .schema(schema)\n",
    "    .csv(\"ol_dump_authors_latest.txt\")\n",
    ")"
   ]
  },
  {
   "cell_type": "code",
   "execution_count": 7,
   "metadata": {},
   "outputs": [],
   "source": [
    "df = df.repartition(24)"
   ]
  },
  {
   "cell_type": "code",
   "execution_count": 18,
   "metadata": {},
   "outputs": [
    {
     "name": "stderr",
     "output_type": "stream",
     "text": [
      "23/05/07 16:26:04 WARN MemoryManager: Total allocation exceeds 95.00% (1,020,054,720 bytes) of heap memory\n",
      "Scaling row group sizes to 95.00% for 8 writers\n",
      "23/05/07 16:26:04 WARN MemoryManager: Total allocation exceeds 95.00% (1,020,054,720 bytes) of heap memory\n",
      "Scaling row group sizes to 84.44% for 9 writers\n",
      "23/05/07 16:26:04 WARN MemoryManager: Total allocation exceeds 95.00% (1,020,054,720 bytes) of heap memory\n",
      "Scaling row group sizes to 76.00% for 10 writers\n",
      "23/05/07 16:26:04 WARN MemoryManager: Total allocation exceeds 95.00% (1,020,054,720 bytes) of heap memory\n",
      "Scaling row group sizes to 69.09% for 11 writers\n",
      "23/05/07 16:26:04 WARN MemoryManager: Total allocation exceeds 95.00% (1,020,054,720 bytes) of heap memory\n",
      "Scaling row group sizes to 63.33% for 12 writers\n",
      "23/05/07 16:26:07 WARN MemoryManager: Total allocation exceeds 95.00% (1,020,054,720 bytes) of heap memory\n",
      "Scaling row group sizes to 69.09% for 11 writers\n",
      "23/05/07 16:26:07 WARN MemoryManager: Total allocation exceeds 95.00% (1,020,054,720 bytes) of heap memory\n",
      "Scaling row group sizes to 76.00% for 10 writers\n",
      "23/05/07 16:26:07 WARN MemoryManager: Total allocation exceeds 95.00% (1,020,054,720 bytes) of heap memory\n",
      "Scaling row group sizes to 84.44% for 9 writers\n",
      "23/05/07 16:26:07 WARN MemoryManager: Total allocation exceeds 95.00% (1,020,054,720 bytes) of heap memory\n",
      "Scaling row group sizes to 95.00% for 8 writers\n",
      "23/05/07 16:26:08 WARN MemoryManager: Total allocation exceeds 95.00% (1,020,054,720 bytes) of heap memory\n",
      "Scaling row group sizes to 95.00% for 8 writers\n",
      "23/05/07 16:26:08 WARN MemoryManager: Total allocation exceeds 95.00% (1,020,054,720 bytes) of heap memory\n",
      "Scaling row group sizes to 84.44% for 9 writers\n",
      "23/05/07 16:26:08 WARN MemoryManager: Total allocation exceeds 95.00% (1,020,054,720 bytes) of heap memory\n",
      "Scaling row group sizes to 76.00% for 10 writers\n",
      "23/05/07 16:26:08 WARN MemoryManager: Total allocation exceeds 95.00% (1,020,054,720 bytes) of heap memory\n",
      "Scaling row group sizes to 69.09% for 11 writers\n",
      "23/05/07 16:26:08 WARN MemoryManager: Total allocation exceeds 95.00% (1,020,054,720 bytes) of heap memory\n",
      "Scaling row group sizes to 63.33% for 12 writers\n",
      "23/05/07 16:26:08 WARN MemoryManager: Total allocation exceeds 95.00% (1,020,054,720 bytes) of heap memory\n",
      "Scaling row group sizes to 69.09% for 11 writers\n",
      "23/05/07 16:26:08 WARN MemoryManager: Total allocation exceeds 95.00% (1,020,054,720 bytes) of heap memory\n",
      "Scaling row group sizes to 76.00% for 10 writers\n",
      "23/05/07 16:26:08 WARN MemoryManager: Total allocation exceeds 95.00% (1,020,054,720 bytes) of heap memory\n",
      "Scaling row group sizes to 69.09% for 11 writers\n",
      "23/05/07 16:26:08 WARN MemoryManager: Total allocation exceeds 95.00% (1,020,054,720 bytes) of heap memory\n",
      "Scaling row group sizes to 76.00% for 10 writers\n",
      "23/05/07 16:26:08 WARN MemoryManager: Total allocation exceeds 95.00% (1,020,054,720 bytes) of heap memory\n",
      "Scaling row group sizes to 69.09% for 11 writers\n",
      "23/05/07 16:26:08 WARN MemoryManager: Total allocation exceeds 95.00% (1,020,054,720 bytes) of heap memory\n",
      "Scaling row group sizes to 63.33% for 12 writers\n",
      "23/05/07 16:26:08 WARN MemoryManager: Total allocation exceeds 95.00% (1,020,054,720 bytes) of heap memory\n",
      "Scaling row group sizes to 69.09% for 11 writers\n",
      "23/05/07 16:26:08 WARN MemoryManager: Total allocation exceeds 95.00% (1,020,054,720 bytes) of heap memory\n",
      "Scaling row group sizes to 63.33% for 12 writers\n",
      "23/05/07 16:26:08 WARN MemoryManager: Total allocation exceeds 95.00% (1,020,054,720 bytes) of heap memory\n",
      "Scaling row group sizes to 69.09% for 11 writers\n",
      "23/05/07 16:26:08 WARN MemoryManager: Total allocation exceeds 95.00% (1,020,054,720 bytes) of heap memory\n",
      "Scaling row group sizes to 76.00% for 10 writers\n",
      "23/05/07 16:26:08 WARN MemoryManager: Total allocation exceeds 95.00% (1,020,054,720 bytes) of heap memory\n",
      "Scaling row group sizes to 69.09% for 11 writers\n",
      "23/05/07 16:26:08 WARN MemoryManager: Total allocation exceeds 95.00% (1,020,054,720 bytes) of heap memory\n",
      "Scaling row group sizes to 76.00% for 10 writers\n",
      "23/05/07 16:26:09 WARN MemoryManager: Total allocation exceeds 95.00% (1,020,054,720 bytes) of heap memory\n",
      "Scaling row group sizes to 69.09% for 11 writers\n",
      "23/05/07 16:26:09 WARN MemoryManager: Total allocation exceeds 95.00% (1,020,054,720 bytes) of heap memory\n",
      "Scaling row group sizes to 63.33% for 12 writers\n",
      "23/05/07 16:26:11 WARN MemoryManager: Total allocation exceeds 95.00% (1,020,054,720 bytes) of heap memory\n",
      "Scaling row group sizes to 69.09% for 11 writers\n",
      "23/05/07 16:26:11 WARN MemoryManager: Total allocation exceeds 95.00% (1,020,054,720 bytes) of heap memory\n",
      "Scaling row group sizes to 76.00% for 10 writers\n",
      "23/05/07 16:26:11 WARN MemoryManager: Total allocation exceeds 95.00% (1,020,054,720 bytes) of heap memory\n",
      "Scaling row group sizes to 84.44% for 9 writers\n",
      "23/05/07 16:26:12 WARN MemoryManager: Total allocation exceeds 95.00% (1,020,054,720 bytes) of heap memory\n",
      "Scaling row group sizes to 95.00% for 8 writers\n",
      "                                                                                \r"
     ]
    }
   ],
   "source": [
    "df.write.parquet(\"ol/authors/latest\", mode=\"overwrite\")"
   ]
  },
  {
   "cell_type": "code",
   "execution_count": 8,
   "metadata": {},
   "outputs": [
    {
     "name": "stderr",
     "output_type": "stream",
     "text": [
      "                                                                                \r"
     ]
    }
   ],
   "source": [
    "df = spark.read.parquet(\"ol/authors/latest\")"
   ]
  },
  {
   "cell_type": "code",
   "execution_count": 9,
   "metadata": {},
   "outputs": [
    {
     "name": "stdout",
     "output_type": "stream",
     "text": [
      "root\n",
      " |-- type: string (nullable = true)\n",
      " |-- key: string (nullable = true)\n",
      " |-- revision: integer (nullable = true)\n",
      " |-- last_modified: string (nullable = true)\n",
      " |-- json: string (nullable = true)\n",
      "\n"
     ]
    }
   ],
   "source": [
    "df.printSchema()"
   ]
  },
  {
   "cell_type": "code",
   "execution_count": null,
   "metadata": {},
   "outputs": [
    {
     "data": {
      "text/plain": [
       "DataFrame[type: string, key: string, revision: int, last_modified: string, json: string]"
      ]
     },
     "execution_count": 18,
     "metadata": {},
     "output_type": "execute_result"
    }
   ],
   "source": [
    "df"
   ]
  },
  {
   "cell_type": "code",
   "execution_count": 10,
   "metadata": {},
   "outputs": [
    {
     "name": "stdout",
     "output_type": "stream",
     "text": [
      "+------------+--------------------+--------+--------------------+--------------------+\n",
      "|        type|                 key|revision|       last_modified|                json|\n",
      "+------------+--------------------+--------+--------------------+--------------------+\n",
      "|/type/author| /authors/OL6587319A|       1|2009-02-18T11:37:...|{\"name\": \"Dale Sh...|\n",
      "|/type/author| /authors/OL9810305A|       1|2021-10-10T00:11:...|{\"type\": {\"key\": ...|\n",
      "|/type/author| /authors/OL3877417A|       1|2008-04-30T20:50:...|{\"name\": \"Don Mag...|\n",
      "|/type/author| /authors/OL8360454A|       1|2020-08-31T21:33:...|{\"name\": \"Floss D...|\n",
      "|/type/author| /authors/OL2899506A|       1|2008-04-29T15:03:...|{\"name\": \"Girma B...|\n",
      "|/type/author| /authors/OL3314602A|       1|2008-04-30T09:38:...|{\"name\": \"Phil Mu...|\n",
      "|/type/author| /authors/OL9252049A|       1|2021-06-01T08:10:...|{\"type\": {\"key\": ...|\n",
      "|/type/author| /authors/OL3947121A|       1|2008-04-30T20:50:...|{\"name\": \"Anthea ...|\n",
      "|/type/author|/authors/OL12041121A|       1|2022-12-30T21:51:...|{\"type\": {\"key\": ...|\n",
      "|/type/author| /authors/OL9775865A|       1|2021-10-08T18:50:...|{\"type\": {\"key\": ...|\n",
      "|/type/author| /authors/OL6668808A|       1|2009-07-17T02:43:...|{\"name\": \"Joseph ...|\n",
      "|/type/author|/authors/OL11349282A|       1|2022-12-03T06:28:...|{\"type\": {\"key\": ...|\n",
      "|/type/author|/authors/OL11073790A|       1|2022-11-25T03:32:...|{\"type\": {\"key\": ...|\n",
      "|/type/author| /authors/OL7684707A|       1|2019-10-16T19:49:...|{\"name\": \"Falk St...|\n",
      "|/type/author| /authors/OL5700317A|       1|2008-10-21T14:54:...|{\"name\": \"Tim Phi...|\n",
      "|/type/author|/authors/OL11244291A|       1|2022-11-30T20:55:...|{\"type\": {\"key\": ...|\n",
      "|/type/author| /authors/OL2824561A|       1|2008-04-29T15:03:...|{\"name\": \"Anuradh...|\n",
      "|/type/author|/authors/OL12610096A|       1|2023-03-20T14:11:...|{\"type\": {\"key\": ...|\n",
      "|/type/author|/authors/OL11081876A|       1|2022-11-25T11:44:...|{\"type\": {\"key\": ...|\n",
      "|/type/author| /authors/OL7575603A|       1|2019-07-05T16:26:...|{\"name\": \"Satyen ...|\n",
      "+------------+--------------------+--------+--------------------+--------------------+\n",
      "only showing top 20 rows\n",
      "\n"
     ]
    },
    {
     "name": "stderr",
     "output_type": "stream",
     "text": [
      "                                                                                \r"
     ]
    }
   ],
   "source": [
    "df.show()"
   ]
  },
  {
   "cell_type": "code",
   "execution_count": 107,
   "metadata": {},
   "outputs": [],
   "source": [
    "from pyspark.sql.functions import col, explode, from_json, explode_outer"
   ]
  },
  {
   "cell_type": "code",
   "execution_count": 101,
   "metadata": {},
   "outputs": [],
   "source": [
    "schema = types.StructType(\n",
    "    [\n",
    "        types.StructField(\n",
    "            \"type\", types.MapType(types.StringType(), types.StringType(), True), True\n",
    "        ),\n",
    "        types.StructField(\"name\", types.StringType(), True),\n",
    "        types.StructField(\"key\", types.StringType(), True),\n",
    "        types.StructField(\"source_records\", types.StringType(), True),\n",
    "        types.StructField(\"latest_revision\", types.IntegerType(), True),\n",
    "        types.StructField(\"revision\", types.IntegerType(), True),\n",
    "        types.StructField(\n",
    "            \"created\",\n",
    "            types.StructType(\n",
    "                [\n",
    "                    types.StructField(\"type\", types.StringType(), True),\n",
    "                    types.StructField(\"value\", types.TimestampType(), True),\n",
    "                ]\n",
    "            ),\n",
    "        ),\n",
    "        types.StructField(\"last_modified\", types.StringType(), True),\n",
    "        types.StructField(\"personal_name\", types.StringType(), True),\n",
    "        types.StructField(\"birth_date\", types.StringType(), True),\n",
    "    ]\n",
    ")"
   ]
  },
  {
   "attachments": {},
   "cell_type": "markdown",
   "metadata": {},
   "source": [
    "https://stackoverflow.com/questions/51070251/pyspark-explode-json-in-column-to-multiple-columns"
   ]
  },
  {
   "cell_type": "code",
   "execution_count": 108,
   "metadata": {},
   "outputs": [
    {
     "name": "stdout",
     "output_type": "stream",
     "text": [
      "+------------+--------------------+--------+--------------------+--------------------+--------------------+--------------------+---------------+--------------------+\n",
      "|        type|                 key|revision|          created_at|       last_modified|                name|      source_records|latest_revision|       personal_name|\n",
      "+------------+--------------------+--------+--------------------+--------------------+--------------------+--------------------+---------------+--------------------+\n",
      "|/type/author| /authors/OL6587319A|       1|2009-02-18 11:37:...|2009-02-18T11:37:...|        Dale Shermon|                null|           null|        Dale Shermon|\n",
      "|/type/author| /authors/OL9810305A|       1|2021-10-10 00:11:...|2021-10-10T00:11:...|        Sadie Hobbes|[\"bwb:97986988335...|              1|                null|\n",
      "|/type/author| /authors/OL3877417A|       1|                null|2008-04-30T20:50:...|          Don Magnus|                null|           null|                null|\n",
      "|/type/author| /authors/OL8360454A|       1|2020-08-31 21:33:...|2020-08-31T21:33:...|Floss Dance Birth...|                null|              1|                null|\n",
      "|/type/author| /authors/OL2899506A|       1|                null|2008-04-29T15:03:...|       Girma Biresaw|                null|           null|                null|\n",
      "|/type/author| /authors/OL3314602A|       1|                null|2008-04-30T09:38:...|         Phil Musicb|                null|           null|                null|\n",
      "|/type/author| /authors/OL9252049A|       1|2021-06-01 08:10:...|2021-06-01T08:10:...|  Mr John de Caynoth|[\"amazon:10953506...|              1|                null|\n",
      "|/type/author| /authors/OL3947121A|       1|                null|2008-04-30T20:50:...|        Anthea Krook|                null|           null|                null|\n",
      "|/type/author|/authors/OL12041121A|       1|2022-12-30 21:51:...|2022-12-30T21:51:...|Durvasula Srirama...|[\"marc:marc_colum...|              1|Durvasula Srirama...|\n",
      "|/type/author| /authors/OL9775865A|       1|2021-10-08 18:50:...|2021-10-08T18:50:...|         R. M. Brand|[\"bwb:97816031066...|              1|                null|\n",
      "|/type/author| /authors/OL6668808A|       1|2009-07-17 02:43:...|2009-07-17T02:43:...|         Joseph Hogg|                null|              1|                null|\n",
      "|/type/author|/authors/OL11349282A|       1|2022-12-03 06:28:...|2022-12-03T06:28:...|        Numbers Glod|[\"bwb:97985242088...|              1|                null|\n",
      "|/type/author|/authors/OL11073790A|       1|2022-11-25 03:32:...|2022-11-25T03:32:...|         Janet Fears|[\"bwb:97817903900...|              1|                null|\n",
      "|/type/author| /authors/OL7684707A|       1|2019-10-16 19:49:...|2019-10-16T19:49:...|        Falk Stirkat|                null|              1|                null|\n",
      "|/type/author| /authors/OL5700317A|       1|2008-10-21 14:54:...|2008-10-21T14:54:...|        Tim Philippi|                null|           null|        Tim Philippi|\n",
      "|/type/author|/authors/OL11244291A|       1|2022-11-30 20:55:...|2022-11-30T20:55:...|           D. H PUBB|[\"bwb:97986689286...|              1|                null|\n",
      "|/type/author| /authors/OL2824561A|       1|                null|2008-04-29T15:03:...|Anuradha Dayal-Gu...|                null|           null|                null|\n",
      "|/type/author|/authors/OL12610096A|       1|2023-03-20 14:11:...|2023-03-20T14:11:...|Tomás Javier Alis...|[\"amazon:84976886...|              1|                null|\n",
      "|/type/author|/authors/OL11081876A|       1|2022-11-25 11:44:...|2022-11-25T11:44:...|    Roberta Principe|[\"bwb:97816863405...|              1|                null|\n",
      "|/type/author| /authors/OL7575603A|       1|2019-07-05 16:26:...|2019-07-05T16:26:...|         Satyen Saha|                null|              1|         Satyen Saha|\n",
      "+------------+--------------------+--------+--------------------+--------------------+--------------------+--------------------+---------------+--------------------+\n",
      "only showing top 20 rows\n",
      "\n"
     ]
    }
   ],
   "source": [
    "df.withColumn(\"json\", from_json(\"json\", schema)).select(\n",
    "    \"type\",\n",
    "    \"key\",\n",
    "    \"revision\",\n",
    "    col(\"json.created.value\").alias(\"created_at\"),\n",
    "    \"last_modified\",\n",
    "    \"json.name\",\n",
    "    \"json.source_records\",\n",
    "    \"json.latest_revision\",\n",
    "    \"json.personal_name\"\n",
    ").show()"
   ]
  },
  {
   "cell_type": "code",
   "execution_count": null,
   "metadata": {},
   "outputs": [],
   "source": []
  }
 ],
 "metadata": {
  "kernelspec": {
   "display_name": "de-project",
   "language": "python",
   "name": "python3"
  },
  "language_info": {
   "codemirror_mode": {
    "name": "ipython",
    "version": 3
   },
   "file_extension": ".py",
   "mimetype": "text/x-python",
   "name": "python",
   "nbconvert_exporter": "python",
   "pygments_lexer": "ipython3",
   "version": "3.10.7"
  },
  "orig_nbformat": 4
 },
 "nbformat": 4,
 "nbformat_minor": 2
}
